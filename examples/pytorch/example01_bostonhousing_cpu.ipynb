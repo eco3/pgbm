{
 "cells": [
  {
   "cell_type": "code",
   "execution_count": null,
   "metadata": {
    "colab": {
     "base_uri": "https://localhost:8080/"
    },
    "executionInfo": {
     "elapsed": 5045,
     "status": "ok",
     "timestamp": 1624613715209,
     "user": {
      "displayName": "Olivier Sprangers",
      "photoUrl": "",
      "userId": "10703526806833343602"
     },
     "user_tz": -120
    },
    "id": "43t_In3fZv5d",
    "outputId": "7aab10cf-0f82-4c76-eb8b-5bcf3c4ee77f"
   },
   "outputs": [],
   "source": [
    "# Install PGBM. \n",
    "%pip install pgbm"
   ]
  },
  {
   "cell_type": "code",
   "execution_count": null,
   "metadata": {
    "id": "3LSzXnQDgFPQ"
   },
   "outputs": [],
   "source": [
    "#%% Load packages\n",
    "import torch\n",
    "from pgbm import PGBM\n",
    "from sklearn.model_selection import train_test_split\n",
    "from sklearn.datasets import load_boston\n",
    "import matplotlib.pyplot as plt"
   ]
  },
  {
   "cell_type": "code",
   "execution_count": null,
   "metadata": {
    "id": "cI84ZRQJgQ4v"
   },
   "outputs": [],
   "source": [
    "#%% Objective for pgbm\n",
    "def mseloss_objective(yhat, y, levels=None):\n",
    "    gradient = (yhat - y)\n",
    "    hessian = torch.ones_like(yhat)\n",
    "\n",
    "    return gradient, hessian\n",
    "\n",
    "def rmseloss_metric(yhat, y, levels=None):\n",
    "    loss = (yhat - y).pow(2).mean().sqrt()\n",
    "\n",
    "    return loss"
   ]
  },
  {
   "cell_type": "code",
   "execution_count": null,
   "metadata": {
    "id": "AAlCs1t_gT0I"
   },
   "outputs": [],
   "source": [
    "#%% Load data\n",
    "X, y = load_boston(return_X_y=True)\n",
    "params = {'device':'cpu'}"
   ]
  },
  {
   "cell_type": "code",
   "execution_count": null,
   "metadata": {
    "colab": {
     "base_uri": "https://localhost:8080/"
    },
    "executionInfo": {
     "elapsed": 7565,
     "status": "ok",
     "timestamp": 1624614188017,
     "user": {
      "displayName": "Olivier Sprangers",
      "photoUrl": "",
      "userId": "10703526806833343602"
     },
     "user_tz": -120
    },
    "id": "O8M-Ms3zgWPJ",
    "outputId": "332b693a-a45a-4ae7-c058-f32d30a1bb53"
   },
   "outputs": [],
   "source": [
    "#%% Train pgbm\n",
    "# Split data\n",
    "torch_device = torch.device('cpu') if params['device'] == 'cpu' else torch.device(0)\n",
    "X_train, X_test, y_train, y_test = train_test_split(X, y, test_size=0.1)\n",
    "torch_data = lambda x: torch.from_numpy(x).float().to(torch_device)\n",
    "train_data = (torch_data(X_train), torch_data(y_train))\n",
    "test_data = (torch_data(X_test), torch_data(y_test))\n",
    "# Train on set \n",
    "model = PGBM()  \n",
    "model.train(train_data, objective=mseloss_objective, metric=rmseloss_metric, params=params)\n",
    "#% Point and probabilistic predictions. By default, 100 probabilistic estimates are created\n",
    "yhat_point = model.predict(test_data[0])\n",
    "yhat_dist = model.predict_dist(test_data[0])\n",
    "# Scoring\n",
    "rmse = model.metric(yhat_point, test_data[1])\n",
    "crps = model.crps_ensemble(yhat_dist, test_data[1]).mean()    \n",
    "# Print final scores\n",
    "print(f'RMSE PGBM: {rmse:.2f}')\n",
    "print(f'CRPS PGBM: {crps:.2f}')"
   ]
  },
  {
   "cell_type": "code",
   "execution_count": null,
   "metadata": {
    "colab": {
     "base_uri": "https://localhost:8080/",
     "height": 286
    },
    "executionInfo": {
     "elapsed": 727,
     "status": "ok",
     "timestamp": 1624614192887,
     "user": {
      "displayName": "Olivier Sprangers",
      "photoUrl": "",
      "userId": "10703526806833343602"
     },
     "user_tz": -120
    },
    "id": "Iz2l3VF3geEK",
    "outputId": "cab7bedb-6540-4626-9be2-37783900276c"
   },
   "outputs": [],
   "source": [
    "#%% Plot all samples\n",
    "plt.rcParams.update({'font.size': 12})\n",
    "plt.plot(y_test, 'o', label='Actual')\n",
    "plt.plot(yhat_point.cpu(), 'ko', label='Point prediction PGBM')\n",
    "plt.plot(yhat_dist.cpu().max(dim=0).values, 'k--', label='Max bound PGBM')\n",
    "plt.plot(yhat_dist.cpu().min(dim=0).values, 'k--', label='Min bound PGBM')\n",
    "plt.legend()"
   ]
  }
 ],
 "metadata": {
  "accelerator": "GPU",
  "colab": {
   "authorship_tag": "ABX9TyPGFY288LdqW3bOBoVMe5Ry",
   "collapsed_sections": [],
   "mount_file_id": "12zVLGfIQIj72rRiUGVQTRGW_om5j5IBY",
   "name": "example01_bostonhousing_cpu.ipynb",
   "provenance": [
    {
     "file_id": "12zVLGfIQIj72rRiUGVQTRGW_om5j5IBY",
     "timestamp": 1624614768285
    }
   ]
  },
  "kernelspec": {
   "display_name": "Python 3",
   "language": "python",
   "name": "python3"
  },
  "language_info": {
   "codemirror_mode": {
    "name": "ipython",
    "version": 3
   },
   "file_extension": ".py",
   "mimetype": "text/x-python",
   "name": "python",
   "nbconvert_exporter": "python",
   "pygments_lexer": "ipython3",
   "version": "3.8.5"
  }
 },
 "nbformat": 4,
 "nbformat_minor": 4
}
