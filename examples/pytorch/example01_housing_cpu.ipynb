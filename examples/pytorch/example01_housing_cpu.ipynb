{
 "cells": [
  {
   "cell_type": "code",
   "execution_count": 1,
   "metadata": {
    "colab": {
     "base_uri": "https://localhost:8080/"
    },
    "executionInfo": {
     "elapsed": 5045,
     "status": "ok",
     "timestamp": 1624613715209,
     "user": {
      "displayName": "Olivier Sprangers",
      "photoUrl": "",
      "userId": "10703526806833343602"
     },
     "user_tz": -120
    },
    "id": "43t_In3fZv5d",
    "outputId": "7aab10cf-0f82-4c76-eb8b-5bcf3c4ee77f"
   },
   "outputs": [
    {
     "name": "stdout",
     "output_type": "stream",
     "text": [
      "Requirement already satisfied: pgbm in c:\\users\\ospra\\miniconda3\\envs\\phd\\lib\\site-packages\\pgbm-1.4-py3.8.egg (1.4)\n",
      "Note: you may need to restart the kernel to use updated packages.\n"
     ]
    }
   ],
   "source": [
    "# Install PGBM. \n",
    "%pip install pgbm"
   ]
  },
  {
   "cell_type": "code",
   "execution_count": 2,
   "metadata": {
    "id": "3LSzXnQDgFPQ"
   },
   "outputs": [
    {
     "name": "stdout",
     "output_type": "stream",
     "text": [
      "Using C:\\Users\\ospra\\AppData\\Local\\torch_extensions\\torch_extensions\\Cache\\py38_cu113 as PyTorch extensions root...\n",
      "Detected CUDA files, patching ldflags\n",
      "Emitting ninja build file C:\\Users\\ospra\\AppData\\Local\\torch_extensions\\torch_extensions\\Cache\\py38_cu113\\split_decision\\build.ninja...\n",
      "Building extension module split_decision...\n",
      "Allowing ninja to set a default number of workers... (overridable by setting the environment variable MAX_JOBS=N)\n",
      "Loading extension module split_decision...\n"
     ]
    }
   ],
   "source": [
    "#%% Load packages\n",
    "import torch\n",
    "from pgbm import PGBM\n",
    "from sklearn.model_selection import train_test_split\n",
    "from sklearn.datasets import fetch_california_housing\n",
    "import matplotlib.pyplot as plt"
   ]
  },
  {
   "cell_type": "code",
   "execution_count": 3,
   "metadata": {
    "id": "cI84ZRQJgQ4v"
   },
   "outputs": [],
   "source": [
    "#%% Objective for pgbm\n",
    "def mseloss_objective(yhat, y, levels=None):\n",
    "    gradient = (yhat - y)\n",
    "    hessian = torch.ones_like(yhat)\n",
    "\n",
    "    return gradient, hessian\n",
    "\n",
    "def rmseloss_metric(yhat, y, levels=None):\n",
    "    loss = (yhat - y).pow(2).mean().sqrt()\n",
    "\n",
    "    return loss"
   ]
  },
  {
   "cell_type": "code",
   "execution_count": 4,
   "metadata": {
    "id": "AAlCs1t_gT0I"
   },
   "outputs": [],
   "source": [
    "#%% Load data\n",
    "X, y = fetch_california_housing(return_X_y=True)\n",
    "params = {'device':'cpu'}"
   ]
  },
  {
   "cell_type": "code",
   "execution_count": 5,
   "metadata": {
    "colab": {
     "base_uri": "https://localhost:8080/"
    },
    "executionInfo": {
     "elapsed": 7565,
     "status": "ok",
     "timestamp": 1624614188017,
     "user": {
      "displayName": "Olivier Sprangers",
      "photoUrl": "",
      "userId": "10703526806833343602"
     },
     "user_tz": -120
    },
    "id": "O8M-Ms3zgWPJ",
    "outputId": "332b693a-a45a-4ae7-c058-f32d30a1bb53"
   },
   "outputs": [
    {
     "name": "stdout",
     "output_type": "stream",
     "text": [
      "Estimator 0/100, Train metric: 1.0840\n",
      "Estimator 1/100, Train metric: 1.0206\n",
      "Estimator 2/100, Train metric: 0.9661\n",
      "Estimator 3/100, Train metric: 0.9172\n",
      "Estimator 4/100, Train metric: 0.8725\n",
      "Estimator 5/100, Train metric: 0.8346\n",
      "Estimator 6/100, Train metric: 0.8007\n",
      "Estimator 7/100, Train metric: 0.7719\n",
      "Estimator 8/100, Train metric: 0.7458\n",
      "Estimator 9/100, Train metric: 0.7231\n",
      "Estimator 10/100, Train metric: 0.7035\n",
      "Estimator 11/100, Train metric: 0.6852\n",
      "Estimator 12/100, Train metric: 0.6696\n",
      "Estimator 13/100, Train metric: 0.6561\n",
      "Estimator 14/100, Train metric: 0.6426\n",
      "Estimator 15/100, Train metric: 0.6310\n",
      "Estimator 16/100, Train metric: 0.6220\n",
      "Estimator 17/100, Train metric: 0.6132\n",
      "Estimator 18/100, Train metric: 0.6046\n",
      "Estimator 19/100, Train metric: 0.5943\n",
      "Estimator 20/100, Train metric: 0.5858\n",
      "Estimator 21/100, Train metric: 0.5777\n",
      "Estimator 22/100, Train metric: 0.5684\n",
      "Estimator 23/100, Train metric: 0.5598\n",
      "Estimator 24/100, Train metric: 0.5549\n",
      "Estimator 25/100, Train metric: 0.5486\n",
      "Estimator 26/100, Train metric: 0.5444\n",
      "Estimator 27/100, Train metric: 0.5400\n",
      "Estimator 28/100, Train metric: 0.5345\n",
      "Estimator 29/100, Train metric: 0.5309\n",
      "Estimator 30/100, Train metric: 0.5282\n",
      "Estimator 31/100, Train metric: 0.5232\n",
      "Estimator 32/100, Train metric: 0.5208\n",
      "Estimator 33/100, Train metric: 0.5154\n",
      "Estimator 34/100, Train metric: 0.5132\n",
      "Estimator 35/100, Train metric: 0.5085\n",
      "Estimator 36/100, Train metric: 0.5033\n",
      "Estimator 37/100, Train metric: 0.5001\n",
      "Estimator 38/100, Train metric: 0.4970\n",
      "Estimator 39/100, Train metric: 0.4948\n",
      "Estimator 40/100, Train metric: 0.4929\n",
      "Estimator 41/100, Train metric: 0.4908\n",
      "Estimator 42/100, Train metric: 0.4891\n",
      "Estimator 43/100, Train metric: 0.4874\n",
      "Estimator 44/100, Train metric: 0.4852\n",
      "Estimator 45/100, Train metric: 0.4823\n",
      "Estimator 46/100, Train metric: 0.4794\n",
      "Estimator 47/100, Train metric: 0.4779\n",
      "Estimator 48/100, Train metric: 0.4767\n",
      "Estimator 49/100, Train metric: 0.4754\n",
      "Estimator 50/100, Train metric: 0.4733\n",
      "Estimator 51/100, Train metric: 0.4719\n",
      "Estimator 52/100, Train metric: 0.4705\n",
      "Estimator 53/100, Train metric: 0.4690\n",
      "Estimator 54/100, Train metric: 0.4674\n",
      "Estimator 55/100, Train metric: 0.4657\n",
      "Estimator 56/100, Train metric: 0.4645\n",
      "Estimator 57/100, Train metric: 0.4637\n",
      "Estimator 58/100, Train metric: 0.4623\n",
      "Estimator 59/100, Train metric: 0.4609\n",
      "Estimator 60/100, Train metric: 0.4593\n",
      "Estimator 61/100, Train metric: 0.4584\n",
      "Estimator 62/100, Train metric: 0.4576\n",
      "Estimator 63/100, Train metric: 0.4567\n",
      "Estimator 64/100, Train metric: 0.4553\n",
      "Estimator 65/100, Train metric: 0.4544\n",
      "Estimator 66/100, Train metric: 0.4526\n",
      "Estimator 67/100, Train metric: 0.4516\n",
      "Estimator 68/100, Train metric: 0.4502\n",
      "Estimator 69/100, Train metric: 0.4491\n",
      "Estimator 70/100, Train metric: 0.4475\n",
      "Estimator 71/100, Train metric: 0.4467\n",
      "Estimator 72/100, Train metric: 0.4452\n",
      "Estimator 73/100, Train metric: 0.4438\n",
      "Estimator 74/100, Train metric: 0.4428\n",
      "Estimator 75/100, Train metric: 0.4417\n",
      "Estimator 76/100, Train metric: 0.4412\n",
      "Estimator 77/100, Train metric: 0.4404\n",
      "Estimator 78/100, Train metric: 0.4397\n",
      "Estimator 79/100, Train metric: 0.4385\n",
      "Estimator 80/100, Train metric: 0.4376\n",
      "Estimator 81/100, Train metric: 0.4366\n",
      "Estimator 82/100, Train metric: 0.4353\n",
      "Estimator 83/100, Train metric: 0.4343\n",
      "Estimator 84/100, Train metric: 0.4338\n",
      "Estimator 85/100, Train metric: 0.4318\n",
      "Estimator 86/100, Train metric: 0.4308\n",
      "Estimator 87/100, Train metric: 0.4299\n",
      "Estimator 88/100, Train metric: 0.4290\n",
      "Estimator 89/100, Train metric: 0.4280\n",
      "Estimator 90/100, Train metric: 0.4273\n",
      "Estimator 91/100, Train metric: 0.4269\n",
      "Estimator 92/100, Train metric: 0.4256\n",
      "Estimator 93/100, Train metric: 0.4251\n",
      "Estimator 94/100, Train metric: 0.4246\n",
      "Estimator 95/100, Train metric: 0.4238\n",
      "Estimator 96/100, Train metric: 0.4231\n",
      "Estimator 97/100, Train metric: 0.4223\n",
      "Estimator 98/100, Train metric: 0.4215\n",
      "Estimator 99/100, Train metric: 0.4209\n",
      "RMSE PGBM: 0.49\n",
      "CRPS PGBM: 0.25\n"
     ]
    }
   ],
   "source": [
    "#%% Train pgbm\n",
    "# Split data\n",
    "X_train, X_test, y_train, y_test = train_test_split(X, y, test_size=0.1)\n",
    "train_data = (X_train, y_train)\n",
    "test_data = (X_test, y_test)\n",
    "# Train on set \n",
    "model = PGBM()  \n",
    "model.train(train_data, objective=mseloss_objective, metric=rmseloss_metric, params=params)\n",
    "#% Point and probabilistic predictions. By default, 100 probabilistic estimates are created\n",
    "yhat_point = model.predict(test_data[0])\n",
    "yhat_dist = model.predict_dist(test_data[0])\n",
    "# Scoring\n",
    "rmse = model.metric(yhat_point, test_data[1])\n",
    "crps = model.crps_ensemble(yhat_dist, test_data[1]).mean()    \n",
    "# Print final scores\n",
    "print(f'RMSE PGBM: {rmse:.2f}')\n",
    "print(f'CRPS PGBM: {crps:.2f}')"
   ]
  },
  {
   "cell_type": "code",
   "execution_count": 6,
   "metadata": {
    "colab": {
     "base_uri": "https://localhost:8080/",
     "height": 286
    },
    "executionInfo": {
     "elapsed": 727,
     "status": "ok",
     "timestamp": 1624614192887,
     "user": {
      "displayName": "Olivier Sprangers",
      "photoUrl": "",
      "userId": "10703526806833343602"
     },
     "user_tz": -120
    },
    "id": "Iz2l3VF3geEK",
    "outputId": "cab7bedb-6540-4626-9be2-37783900276c"
   },
   "outputs": [
    {
     "data": {
      "text/plain": [
       "<matplotlib.legend.Legend at 0x2fa277bf6a0>"
      ]
     },
     "execution_count": 6,
     "metadata": {},
     "output_type": "execute_result"
    },
    {
     "data": {
      "image/png": "[encoded data removed]",
      "text/plain": [
       "<Figure size 432x288 with 1 Axes>"
      ]
     },
     "metadata": {
      "needs_background": "light"
     },
     "output_type": "display_data"
    }
   ],
   "source": [
    "#%% Plot all samples\n",
    "plt.rcParams.update({'font.size': 12})\n",
    "plt.plot(y_test, 'o', label='Actual')\n",
    "plt.plot(yhat_point.cpu(), 'ko', label='Point prediction PGBM')\n",
    "plt.plot(yhat_dist.cpu().max(dim=0).values, 'k--', label='Max bound PGBM')\n",
    "plt.plot(yhat_dist.cpu().min(dim=0).values, 'k--', label='Min bound PGBM')\n",
    "plt.legend()"
   ]
  },
  {
   "cell_type": "code",
   "execution_count": null,
   "metadata": {},
   "outputs": [],
   "source": []
  }
 ],
 "metadata": {
  "accelerator": "GPU",
  "colab": {
   "authorship_tag": "ABX9TyPGFY288LdqW3bOBoVMe5Ry",
   "collapsed_sections": [],
   "mount_file_id": "12zVLGfIQIj72rRiUGVQTRGW_om5j5IBY",
   "name": "example01_bostonhousing_cpu.ipynb",
   "provenance": [
    {
     "file_id": "12zVLGfIQIj72rRiUGVQTRGW_om5j5IBY",
     "timestamp": 1624614768285
    }
   ]
  },
  "kernelspec": {
   "display_name": "Python 3 (ipykernel)",
   "language": "python",
   "name": "python3"
  },
  "language_info": {
   "codemirror_mode": {
    "name": "ipython",
    "version": 3
   },
   "file_extension": ".py",
   "mimetype": "text/x-python",
   "name": "python",
   "nbconvert_exporter": "python",
   "pygments_lexer": "ipython3",
   "version": "3.8.12"
  }
 },
 "nbformat": 4,
 "nbformat_minor": 4
}
