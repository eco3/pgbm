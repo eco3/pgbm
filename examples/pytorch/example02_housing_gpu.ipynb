{
 "cells": [
  {
   "cell_type": "code",
   "execution_count": null,
   "metadata": {
    "id": "uf7EUcBwmTLy"
   },
   "outputs": [],
   "source": [
    "# Colab: Make sure you select 'Runtime -> Change runtime type -> Hardware Accelerator: GPU' "
   ]
  },
  {
   "cell_type": "code",
   "execution_count": 1,
   "metadata": {
    "colab": {
     "base_uri": "https://localhost:8080/"
    },
    "executionInfo": {
     "elapsed": 5838,
     "status": "ok",
     "timestamp": 1624639576081,
     "user": {
      "displayName": "Olivier Sprangers",
      "photoUrl": "",
      "userId": "10703526806833343602"
     },
     "user_tz": -120
    },
    "id": "43t_In3fZv5d",
    "outputId": "7e4a0f04-1b41-4d53-ae12-abc775c48956"
   },
   "outputs": [
    {
     "name": "stdout",
     "output_type": "stream",
     "text": [
      "Requirement already satisfied: pgbm in c:\\users\\ospra\\miniconda3\\envs\\phd\\lib\\site-packages\\pgbm-1.4-py3.8.egg (1.4)\n",
      "Note: you may need to restart the kernel to use updated packages.\n",
      "Collecting ninja\n",
      "  Downloading ninja-1.10.2.2-py2.py3-none-win_amd64.whl (759 kB)\n",
      "Installing collected packages: ninja\n",
      "Successfully installed ninja-1.10.2.2\n",
      "Note: you may need to restart the kernel to use updated packages.\n"
     ]
    }
   ],
   "source": [
    "# Install PGBM and ninja for CUDA extension compilation. \n",
    "%pip install pgbm\n",
    "%pip install ninja"
   ]
  },
  {
   "cell_type": "code",
   "execution_count": 2,
   "metadata": {
    "executionInfo": {
     "elapsed": 6664,
     "status": "ok",
     "timestamp": 1624639587886,
     "user": {
      "displayName": "Olivier Sprangers",
      "photoUrl": "",
      "userId": "10703526806833343602"
     },
     "user_tz": -120
    },
    "id": "3LSzXnQDgFPQ"
   },
   "outputs": [
    {
     "name": "stdout",
     "output_type": "stream",
     "text": [
      "Using C:\\Users\\ospra\\AppData\\Local\\torch_extensions\\torch_extensions\\Cache\\py38_cu113 as PyTorch extensions root...\n",
      "Detected CUDA files, patching ldflags\n",
      "Emitting ninja build file C:\\Users\\ospra\\AppData\\Local\\torch_extensions\\torch_extensions\\Cache\\py38_cu113\\split_decision\\build.ninja...\n",
      "Building extension module split_decision...\n",
      "Allowing ninja to set a default number of workers... (overridable by setting the environment variable MAX_JOBS=N)\n",
      "Loading extension module split_decision...\n"
     ]
    }
   ],
   "source": [
    "#%% Load packages\n",
    "import torch\n",
    "from pgbm import PGBM\n",
    "from sklearn.model_selection import train_test_split\n",
    "from sklearn.datasets import fetch_california_housing\n",
    "import matplotlib.pyplot as plt"
   ]
  },
  {
   "cell_type": "code",
   "execution_count": 3,
   "metadata": {
    "executionInfo": {
     "elapsed": 239,
     "status": "ok",
     "timestamp": 1624632634090,
     "user": {
      "displayName": "Olivier Sprangers",
      "photoUrl": "",
      "userId": "10703526806833343602"
     },
     "user_tz": -120
    },
    "id": "cI84ZRQJgQ4v"
   },
   "outputs": [],
   "source": [
    "#%% Objective for pgbm\n",
    "def mseloss_objective(yhat, y, levels=None):\n",
    "    gradient = (yhat - y)\n",
    "    hessian = torch.ones_like(yhat)\n",
    "\n",
    "    return gradient, hessian\n",
    "\n",
    "def rmseloss_metric(yhat, y, levels=None):\n",
    "    loss = (yhat - y).pow(2).mean().sqrt()\n",
    "\n",
    "    return loss"
   ]
  },
  {
   "cell_type": "code",
   "execution_count": 4,
   "metadata": {
    "executionInfo": {
     "elapsed": 213,
     "status": "ok",
     "timestamp": 1624632641022,
     "user": {
      "displayName": "Olivier Sprangers",
      "photoUrl": "",
      "userId": "10703526806833343602"
     },
     "user_tz": -120
    },
    "id": "AAlCs1t_gT0I"
   },
   "outputs": [],
   "source": [
    "#%% Load data\n",
    "X, y = fetch_california_housing(return_X_y=True)\n",
    "params = {'device':'gpu'}"
   ]
  },
  {
   "cell_type": "code",
   "execution_count": 6,
   "metadata": {
    "colab": {
     "base_uri": "https://localhost:8080/"
    },
    "executionInfo": {
     "elapsed": 65873,
     "status": "ok",
     "timestamp": 1624632710929,
     "user": {
      "displayName": "Olivier Sprangers",
      "photoUrl": "",
      "userId": "10703526806833343602"
     },
     "user_tz": -120
    },
    "id": "O8M-Ms3zgWPJ",
    "outputId": "df405c5d-675a-4ede-d97d-4f90bc6a7c8e"
   },
   "outputs": [
    {
     "name": "stdout",
     "output_type": "stream",
     "text": [
      "Estimator 0/100, Train metric: 1.0826\n",
      "Estimator 1/100, Train metric: 1.0194\n",
      "Estimator 2/100, Train metric: 0.9651\n",
      "Estimator 3/100, Train metric: 0.9162\n",
      "Estimator 4/100, Train metric: 0.8725\n",
      "Estimator 5/100, Train metric: 0.8344\n",
      "Estimator 6/100, Train metric: 0.8018\n",
      "Estimator 7/100, Train metric: 0.7732\n",
      "Estimator 8/100, Train metric: 0.7471\n",
      "Estimator 9/100, Train metric: 0.7248\n",
      "Estimator 10/100, Train metric: 0.7045\n",
      "Estimator 11/100, Train metric: 0.6848\n",
      "Estimator 12/100, Train metric: 0.6694\n",
      "Estimator 13/100, Train metric: 0.6536\n",
      "Estimator 14/100, Train metric: 0.6408\n",
      "Estimator 15/100, Train metric: 0.6302\n",
      "Estimator 16/100, Train metric: 0.6203\n",
      "Estimator 17/100, Train metric: 0.6110\n",
      "Estimator 18/100, Train metric: 0.6033\n",
      "Estimator 19/100, Train metric: 0.5929\n",
      "Estimator 20/100, Train metric: 0.5849\n",
      "Estimator 21/100, Train metric: 0.5777\n",
      "Estimator 22/100, Train metric: 0.5717\n",
      "Estimator 23/100, Train metric: 0.5650\n",
      "Estimator 24/100, Train metric: 0.5564\n",
      "Estimator 25/100, Train metric: 0.5506\n",
      "Estimator 26/100, Train metric: 0.5448\n",
      "Estimator 27/100, Train metric: 0.5401\n",
      "Estimator 28/100, Train metric: 0.5361\n",
      "Estimator 29/100, Train metric: 0.5315\n",
      "Estimator 30/100, Train metric: 0.5279\n",
      "Estimator 31/100, Train metric: 0.5249\n",
      "Estimator 32/100, Train metric: 0.5190\n",
      "Estimator 33/100, Train metric: 0.5165\n",
      "Estimator 34/100, Train metric: 0.5138\n",
      "Estimator 35/100, Train metric: 0.5082\n",
      "Estimator 36/100, Train metric: 0.5053\n",
      "Estimator 37/100, Train metric: 0.5026\n",
      "Estimator 38/100, Train metric: 0.4978\n",
      "Estimator 39/100, Train metric: 0.4949\n",
      "Estimator 40/100, Train metric: 0.4930\n",
      "Estimator 41/100, Train metric: 0.4913\n",
      "Estimator 42/100, Train metric: 0.4896\n",
      "Estimator 43/100, Train metric: 0.4869\n",
      "Estimator 44/100, Train metric: 0.4849\n",
      "Estimator 45/100, Train metric: 0.4827\n",
      "Estimator 46/100, Train metric: 0.4813\n",
      "Estimator 47/100, Train metric: 0.4792\n",
      "Estimator 48/100, Train metric: 0.4780\n",
      "Estimator 49/100, Train metric: 0.4769\n",
      "Estimator 50/100, Train metric: 0.4754\n",
      "Estimator 51/100, Train metric: 0.4738\n",
      "Estimator 52/100, Train metric: 0.4711\n",
      "Estimator 53/100, Train metric: 0.4691\n",
      "Estimator 54/100, Train metric: 0.4677\n",
      "Estimator 55/100, Train metric: 0.4663\n",
      "Estimator 56/100, Train metric: 0.4648\n",
      "Estimator 57/100, Train metric: 0.4633\n",
      "Estimator 58/100, Train metric: 0.4622\n",
      "Estimator 59/100, Train metric: 0.4601\n",
      "Estimator 60/100, Train metric: 0.4591\n",
      "Estimator 61/100, Train metric: 0.4574\n",
      "Estimator 62/100, Train metric: 0.4566\n",
      "Estimator 63/100, Train metric: 0.4555\n",
      "Estimator 64/100, Train metric: 0.4546\n",
      "Estimator 65/100, Train metric: 0.4534\n",
      "Estimator 66/100, Train metric: 0.4525\n",
      "Estimator 67/100, Train metric: 0.4512\n",
      "Estimator 68/100, Train metric: 0.4503\n",
      "Estimator 69/100, Train metric: 0.4496\n",
      "Estimator 70/100, Train metric: 0.4486\n",
      "Estimator 71/100, Train metric: 0.4476\n",
      "Estimator 72/100, Train metric: 0.4462\n",
      "Estimator 73/100, Train metric: 0.4452\n",
      "Estimator 74/100, Train metric: 0.4443\n",
      "Estimator 75/100, Train metric: 0.4428\n",
      "Estimator 76/100, Train metric: 0.4419\n",
      "Estimator 77/100, Train metric: 0.4412\n",
      "Estimator 78/100, Train metric: 0.4399\n",
      "Estimator 79/100, Train metric: 0.4390\n",
      "Estimator 80/100, Train metric: 0.4382\n",
      "Estimator 81/100, Train metric: 0.4373\n",
      "Estimator 82/100, Train metric: 0.4366\n",
      "Estimator 83/100, Train metric: 0.4355\n",
      "Estimator 84/100, Train metric: 0.4344\n",
      "Estimator 85/100, Train metric: 0.4336\n",
      "Estimator 86/100, Train metric: 0.4328\n",
      "Estimator 87/100, Train metric: 0.4316\n",
      "Estimator 88/100, Train metric: 0.4308\n",
      "Estimator 89/100, Train metric: 0.4297\n",
      "Estimator 90/100, Train metric: 0.4289\n",
      "Estimator 91/100, Train metric: 0.4281\n",
      "Estimator 92/100, Train metric: 0.4274\n",
      "Estimator 93/100, Train metric: 0.4268\n",
      "Estimator 94/100, Train metric: 0.4260\n",
      "Estimator 95/100, Train metric: 0.4250\n",
      "Estimator 96/100, Train metric: 0.4242\n",
      "Estimator 97/100, Train metric: 0.4236\n",
      "Estimator 98/100, Train metric: 0.4230\n",
      "Estimator 99/100, Train metric: 0.4224\n",
      "RMSE PGBM: 0.48\n",
      "CRPS PGBM: 0.25\n"
     ]
    }
   ],
   "source": [
    "#%% Train pgbm\n",
    "# Split data\n",
    "X_train, X_test, y_train, y_test = train_test_split(X, y, test_size=0.1)\n",
    "train_data = (X_train, y_train)\n",
    "test_data = (X_test, y_test)\n",
    "# Train on set \n",
    "model = PGBM()  \n",
    "model.train(train_data, objective=mseloss_objective, metric=rmseloss_metric, params=params)\n",
    "#% Point and probabilistic predictions. By default, 100 probabilistic estimates are created\n",
    "yhat_point = model.predict(test_data[0])\n",
    "yhat_dist = model.predict_dist(test_data[0])\n",
    "# Scoring\n",
    "rmse = model.metric(yhat_point.cpu(), test_data[1])\n",
    "crps = model.crps_ensemble(yhat_dist, test_data[1]).mean()    \n",
    "# Print final scores\n",
    "print(f'RMSE PGBM: {rmse:.2f}')\n",
    "print(f'CRPS PGBM: {crps:.2f}')"
   ]
  },
  {
   "cell_type": "code",
   "execution_count": 7,
   "metadata": {
    "colab": {
     "base_uri": "https://localhost:8080/",
     "height": 286
    },
    "executionInfo": {
     "elapsed": 761,
     "status": "ok",
     "timestamp": 1624632763365,
     "user": {
      "displayName": "Olivier Sprangers",
      "photoUrl": "",
      "userId": "10703526806833343602"
     },
     "user_tz": -120
    },
    "id": "Iz2l3VF3geEK",
    "outputId": "63b23444-d250-461e-9be8-36b41e50e760"
   },
   "outputs": [
    {
     "data": {
      "text/plain": [
       "<matplotlib.legend.Legend at 0x24292f52b20>"
      ]
     },
     "execution_count": 7,
     "metadata": {},
     "output_type": "execute_result"
    },
    {
     "data": {
      "image/png": "[encoded data removed]",
      "text/plain": [
       "<Figure size 432x288 with 1 Axes>"
      ]
     },
     "metadata": {
      "needs_background": "light"
     },
     "output_type": "display_data"
    }
   ],
   "source": [
    "#%% Plot all samples\n",
    "plt.rcParams.update({'font.size': 12})\n",
    "plt.plot(y_test, 'o', label='Actual')\n",
    "plt.plot(yhat_point.cpu(), 'ko', label='Point prediction PGBM')\n",
    "plt.plot(yhat_dist.cpu().max(dim=0).values, 'k--', label='Max bound PGBM')\n",
    "plt.plot(yhat_dist.cpu().min(dim=0).values, 'k--', label='Min bound PGBM')\n",
    "plt.legend()"
   ]
  },
  {
   "cell_type": "code",
   "execution_count": null,
   "metadata": {},
   "outputs": [],
   "source": []
  }
 ],
 "metadata": {
  "accelerator": "GPU",
  "colab": {
   "authorship_tag": "ABX9TyOvSGsHaku2A1uSW4nyVfiB",
   "collapsed_sections": [],
   "mount_file_id": "12zVLGfIQIj72rRiUGVQTRGW_om5j5IBY",
   "name": "example02_bostonhousing_gpu.ipynb",
   "provenance": []
  },
  "kernelspec": {
   "display_name": "Python 3 (ipykernel)",
   "language": "python",
   "name": "python3"
  },
  "language_info": {
   "codemirror_mode": {
    "name": "ipython",
    "version": 3
   },
   "file_extension": ".py",
   "mimetype": "text/x-python",
   "name": "python",
   "nbconvert_exporter": "python",
   "pygments_lexer": "ipython3",
   "version": "3.8.12"
  }
 },
 "nbformat": 4,
 "nbformat_minor": 4
}
