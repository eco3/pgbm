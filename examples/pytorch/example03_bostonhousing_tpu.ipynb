{
 "cells": [
  {
   "cell_type": "code",
   "execution_count": null,
   "metadata": {
    "executionInfo": {
     "elapsed": 8,
     "status": "ok",
     "timestamp": 1624615443472,
     "user": {
      "displayName": "Olivier Sprangers",
      "photoUrl": "",
      "userId": "10703526806833343602"
     },
     "user_tz": -120
    },
    "id": "uf7EUcBwmTLy"
   },
   "outputs": [],
   "source": [
    "# Colab: Make sure you select 'Runtime -> Change runtime type -> Hardware Accelerator: TPU' "
   ]
  },
  {
   "cell_type": "code",
   "execution_count": null,
   "metadata": {
    "colab": {
     "base_uri": "https://localhost:8080/"
    },
    "executionInfo": {
     "elapsed": 13566,
     "status": "ok",
     "timestamp": 1624621544172,
     "user": {
      "displayName": "Olivier Sprangers",
      "photoUrl": "",
      "userId": "10703526806833343602"
     },
     "user_tz": -120
    },
    "id": "43t_In3fZv5d",
    "outputId": "614bdaeb-f2e1-46ca-dfbf-a1cb528bf25b"
   },
   "outputs": [],
   "source": [
    "# Install packages\n",
    "import os\n",
    "assert os.environ['COLAB_TPU_ADDR']\n",
    "%pip install ninja\n",
    "%pip install cloud-tpu-client==0.10 https://storage.googleapis.com/tpu-pytorch/wheels/torch_xla-1.9-cp37-cp37m-linux_x86_64.whl\n",
    "%pip install pgbm --ignore-requires-python"
   ]
  },
  {
   "cell_type": "code",
   "execution_count": null,
   "metadata": {
    "colab": {
     "base_uri": "https://localhost:8080/"
    },
    "executionInfo": {
     "elapsed": 1099,
     "status": "ok",
     "timestamp": 1624621562233,
     "user": {
      "displayName": "Olivier Sprangers",
      "photoUrl": "",
      "userId": "10703526806833343602"
     },
     "user_tz": -120
    },
    "id": "3LSzXnQDgFPQ",
    "outputId": "94c62229-c5c5-4720-e41d-909a6ba9439b"
   },
   "outputs": [],
   "source": [
    "#%% Load packages\n",
    "import torch\n",
    "import torch_xla\n",
    "import torch_xla.core.xla_model as xm\n",
    "from pgbm import PGBM\n",
    "from sklearn.model_selection import train_test_split\n",
    "from sklearn.datasets import load_boston\n",
    "import matplotlib.pyplot as plt"
   ]
  },
  {
   "cell_type": "code",
   "execution_count": null,
   "metadata": {
    "executionInfo": {
     "elapsed": 184,
     "status": "ok",
     "timestamp": 1624621566279,
     "user": {
      "displayName": "Olivier Sprangers",
      "photoUrl": "",
      "userId": "10703526806833343602"
     },
     "user_tz": -120
    },
    "id": "cI84ZRQJgQ4v"
   },
   "outputs": [],
   "source": [
    "#%% Objective for pgbm\n",
    "def mseloss_objective(yhat, y, levels=None):\n",
    "    gradient = (yhat - y)\n",
    "    hessian = torch.ones_like(yhat)\n",
    "\n",
    "    return gradient, hessian\n",
    "\n",
    "def rmseloss_metric(yhat, y, levels=None):\n",
    "    loss = (yhat - y).pow(2).mean().sqrt()\n",
    "\n",
    "    return loss"
   ]
  },
  {
   "cell_type": "code",
   "execution_count": null,
   "metadata": {
    "executionInfo": {
     "elapsed": 192,
     "status": "ok",
     "timestamp": 1624621569044,
     "user": {
      "displayName": "Olivier Sprangers",
      "photoUrl": "",
      "userId": "10703526806833343602"
     },
     "user_tz": -120
    },
    "id": "AAlCs1t_gT0I"
   },
   "outputs": [],
   "source": [
    "#%% Load data\n",
    "X, y = load_boston(return_X_y=True)\n",
    "params = {'device':'tpu'}"
   ]
  },
  {
   "cell_type": "code",
   "execution_count": null,
   "metadata": {
    "colab": {
     "base_uri": "https://localhost:8080/"
    },
    "id": "O8M-Ms3zgWPJ",
    "outputId": "23a8f1d0-b970-4ff8-b57e-f5db26ca94c1"
   },
   "outputs": [],
   "source": [
    "#%% Train pgbm\n",
    "# Split data\n",
    "X_train, X_test, y_train, y_test = train_test_split(X, y, test_size=0.1)\n",
    "# Train on set \n",
    "train_data = (X_train, y_train)\n",
    "model = PGBM()  \n",
    "model.train(train_data, objective=mseloss_objective, metric=rmseloss_metric, params=params)\n",
    "#% Point and probabilistic predictions. By default, 100 probabilistic estimates are created\n",
    "yhat_point = model.predict(test_data[0])\n",
    "yhat_dist = model.predict_dist(test_data[0])\n",
    "# Scoring\n",
    "rmse = model.metric(yhat_point, test_data[1])\n",
    "crps = model.crps_ensemble(yhat_dist, test_data[1]).mean()    \n",
    "# Print final scores\n",
    "print(f'RMSE PGBM: {rmse:.2f}')\n",
    "print(f'CRPS PGBM: {crps:.2f}')"
   ]
  },
  {
   "cell_type": "code",
   "execution_count": null,
   "metadata": {
    "colab": {
     "base_uri": "https://localhost:8080/",
     "height": 286
    },
    "executionInfo": {
     "elapsed": 4257,
     "status": "ok",
     "timestamp": 1624615250616,
     "user": {
      "displayName": "Olivier Sprangers",
      "photoUrl": "",
      "userId": "10703526806833343602"
     },
     "user_tz": -120
    },
    "id": "Iz2l3VF3geEK",
    "outputId": "fd1ca1d1-bf56-4a47-ac1a-2fe326669517"
   },
   "outputs": [],
   "source": [
    "#%% Plot all samples\n",
    "plt.rcParams.update({'font.size': 12})\n",
    "plt.plot(y_test, 'o', label='Actual')\n",
    "plt.plot(yhat_point.cpu(), 'ko', label='Point prediction PGBM')\n",
    "plt.plot(yhat_dist.cpu().max(dim=0).values, 'k--', label='Max bound PGBM')\n",
    "plt.plot(yhat_dist.cpu().min(dim=0).values, 'k--', label='Min bound PGBM')\n",
    "plt.legend()"
   ]
  }
 ],
 "metadata": {
  "accelerator": "TPU",
  "colab": {
   "authorship_tag": "ABX9TyMJrW47KLZPL5TNnwj+2Rh1",
   "collapsed_sections": [],
   "mount_file_id": "1Dk0-FXOjmq2ituc-LIRyyKjhV3sq9qco",
   "name": "example03_bostonhousing_tpu.ipynb",
   "provenance": [
    {
     "file_id": "12zVLGfIQIj72rRiUGVQTRGW_om5j5IBY",
     "timestamp": 1624615370762
    }
   ]
  },
  "kernelspec": {
   "display_name": "Python 3",
   "language": "python",
   "name": "python3"
  },
  "language_info": {
   "codemirror_mode": {
    "name": "ipython",
    "version": 3
   },
   "file_extension": ".py",
   "mimetype": "text/x-python",
   "name": "python",
   "nbconvert_exporter": "python",
   "pygments_lexer": "ipython3",
   "version": "3.8.5"
  }
 },
 "nbformat": 4,
 "nbformat_minor": 4
}
